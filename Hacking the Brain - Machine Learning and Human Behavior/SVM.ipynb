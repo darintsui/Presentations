{
 "cells": [
  {
   "cell_type": "code",
   "execution_count": 2,
   "metadata": {},
   "outputs": [],
   "source": [
    "import pandas as pd \n",
    "import numpy as np\n",
    "from sklearn.preprocessing import StandardScaler\n",
    "from sklearn.discriminant_analysis import LinearDiscriminantAnalysis as LDA\n",
    "from sklearn.linear_model import LogisticRegression\n",
    "from sklearn.metrics import confusion_matrix, accuracy_score\n",
    "from sklearn.model_selection import cross_val_score\n",
    "from sklearn.model_selection import RepeatedStratifiedKFold\n",
    "from sklearn.discriminant_analysis import LinearDiscriminantAnalysis\n",
    "from sklearn.svm import SVC\n",
    "import matplotlib.pyplot as plt "
   ]
  },
  {
   "cell_type": "code",
   "execution_count": 3,
   "metadata": {},
   "outputs": [],
   "source": [
    "# Import train and test\n",
    "X_train = pd.read_csv('train_X.csv', header=None)\n",
    "X_test = pd.read_csv('test_X.csv', header=None)\n",
    "y_train = np.transpose(pd.read_csv('train_Y.csv', header=None))\n",
    "y_test = np.transpose(pd.read_csv('test_Y.csv', header=None))\n",
    "\n",
    "X_train = X_train.values\n",
    "X_test = X_test.values\n",
    "y_train = y_train.values.ravel()\n",
    "y_test = y_test.values.ravel()\n",
    "\n",
    "X_train = X_train[:,[0,2,4]]\n",
    "X_test = X_test[:,[0,2,4]]"
   ]
  },
  {
   "cell_type": "code",
   "execution_count": 4,
   "metadata": {},
   "outputs": [],
   "source": [
    "# Train \n",
    "LH = np.where(y_train == 1)\n",
    "RH = np.where(y_train == 2)\n",
    "FT = np.where(y_train == 3)\n",
    "TG = np.where(y_train == 4)\n",
    "\n",
    "LH_ind = y_train[LH]\n",
    "RH_ind = y_train[RH]\n",
    "FT_ind = y_train[FT]\n",
    "TG_ind = y_train[TG]\n",
    "\n",
    "LH_p = X_train[LH]\n",
    "RH_p = X_train[RH]\n",
    "FT_p = X_train[FT]\n",
    "TG_p = X_train[TG]\n",
    "\n",
    "\n",
    "X_train = np.concatenate((LH_p, FT_p), axis=0)\n",
    "y_train = np.concatenate((LH_ind, FT_ind), axis=0)"
   ]
  },
  {
   "cell_type": "code",
   "execution_count": 5,
   "metadata": {},
   "outputs": [],
   "source": [
    "# Test\n",
    "LH = np.where(y_test == 1)\n",
    "RH = np.where(y_test == 2)\n",
    "FT = np.where(y_test == 3)\n",
    "TG = np.where(y_test == 4)\n",
    "\n",
    "LH_ind = y_test[LH]\n",
    "RH_ind = y_test[RH]\n",
    "FT_ind = y_test[FT]\n",
    "TG_ind = y_test[TG]\n",
    "\n",
    "LH_p = X_test[LH]\n",
    "RH_p = X_test[RH]\n",
    "FT_p = X_test[FT]\n",
    "TG_p = X_test[TG]\n",
    "\n",
    "\n",
    "X_test = np.concatenate((LH_p, FT_p), axis=0)\n",
    "y_test = np.concatenate((LH_ind, FT_ind), axis=0)"
   ]
  },
  {
   "cell_type": "code",
   "execution_count": 6,
   "metadata": {},
   "outputs": [
    {
     "name": "stdout",
     "output_type": "stream",
     "text": [
      "Mean Accuracy: 0.519 (0.074)\n",
      "Mean Recall: 0.474 (0.134)\n",
      "Mean Precision: 0.530 (0.102)\n"
     ]
    }
   ],
   "source": [
    "cv = RepeatedStratifiedKFold(n_splits=10, n_repeats=3, random_state=1)\n",
    "model = LinearDiscriminantAnalysis()\n",
    "\n",
    "X = np.concatenate((X_train, X_test), axis=0)\n",
    "y = np.concatenate((y_train, y_test), axis=0)\n",
    "\n",
    "# Scale features\n",
    "sc = StandardScaler()\n",
    "X = sc.fit_transform(X)\n",
    "\n",
    "# Evaluate model\n",
    "scores = cross_val_score(model, X, y, scoring='accuracy', cv=cv, n_jobs=-1)\n",
    "recall = cross_val_score(model, X, y, scoring='recall', cv=cv, n_jobs=-1)\n",
    "precision = cross_val_score(model, X, y, scoring='precision', cv=cv, n_jobs=-1)\n",
    "# Summarize result\n",
    "print('Mean Accuracy: %.3f (%.3f)' % (np.mean(scores), np.std(scores)))\n",
    "print('Mean Recall: %.3f (%.3f)' % (np.mean(recall), np.std(recall)))\n",
    "print('Mean Precision: %.3f (%.3f)' % (np.mean(precision), np.std(precision)))"
   ]
  },
  {
   "cell_type": "code",
   "execution_count": 7,
   "metadata": {},
   "outputs": [
    {
     "data": {
      "image/png": "[encoded data removed]",
      "text/plain": [
       "<Figure size 640x480 with 2 Axes>"
      ]
     },
     "metadata": {},
     "output_type": "display_data"
    }
   ],
   "source": [
    "# Implement LDA\n",
    "lda = LDA(n_components=1)\n",
    "X_train = lda.fit_transform(X_train, y_train)\n",
    "X_test = lda.transform(X_test)\n",
    "\n",
    "from sklearn.linear_model import LogisticRegression\n",
    "classifier = LogisticRegression(random_state = 0)\n",
    "classifier.fit(X_train, y_train)\n",
    "y_pred = classifier.predict(X_test)\n",
    "\n",
    "# Scale features\n",
    "sc = StandardScaler()\n",
    "X_train = sc.fit_transform(X_train)\n",
    "X_test = sc.fit_transform(X_test)\n",
    "\n",
    "p_pred =  X_test[y_pred == 1] \n",
    "n_pred =  X_test[y_pred == 3] \n",
    "\n",
    "p_act =  X_test[y_test == 1] \n",
    "n_act =  X_test[y_test == 3]\n",
    "\n",
    "fig, axs = plt.subplots(2)\n",
    "fig.tight_layout(pad=2.0)\n",
    "axs[0].plot(p_pred,np.ones(len(p_pred)),'r.')\n",
    "axs[0].plot(n_pred,np.zeros(len(n_pred)),'b.')\n",
    "axs[0].title.set_text('Prediction')\n",
    "axs[0].legend(['Left Hand','Tongue'],loc='upper right')\n",
    "\n",
    "axs[1].plot(p_act,np.ones(len(p_act)),'r.')\n",
    "axs[1].plot(n_act,np.zeros(len(n_act)),'b.')\n",
    "axs[1].title.set_text('Actual')"
   ]
  },
  {
   "cell_type": "code",
   "execution_count": null,
   "metadata": {},
   "outputs": [],
   "source": []
  }
 ],
 "metadata": {
  "kernelspec": {
   "display_name": "Python 3",
   "language": "python",
   "name": "python3"
  },
  "language_info": {
   "codemirror_mode": {
    "name": "ipython",
    "version": 3
   },
   "file_extension": ".py",
   "mimetype": "text/x-python",
   "name": "python",
   "nbconvert_exporter": "python",
   "pygments_lexer": "ipython3",
   "version": "3.9.13"
  },
  "orig_nbformat": 4,
  "vscode": {
   "interpreter": {
    "hash": "98a625e6d7d55545ce81aedecb43d138ab580e94ba5efa0d01dd2fae79ce129d"
   }
  }
 },
 "nbformat": 4,
 "nbformat_minor": 2
}
