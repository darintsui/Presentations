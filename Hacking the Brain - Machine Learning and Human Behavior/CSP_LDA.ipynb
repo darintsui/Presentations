{
 "cells": [
  {
   "cell_type": "code",
   "execution_count": 1,
   "metadata": {},
   "outputs": [],
   "source": [
    "import os\n",
    "import numpy as np\n",
    "import pandas as pd\n",
    "from pprint import pprint\n",
    "import scipy.io as sio\n",
    "import seaborn as sns\n",
    "import mne\n",
    "from mne import Epochs, pick_types, events_from_annotations\n",
    "from mne.channels import make_standard_montage\n",
    "from mne.io import concatenate_raws, read_raw_edf\n",
    "from mne.datasets import eegbci\n",
    "from mne.decoding import CSP\n",
    "\n",
    "import matplotlib.pyplot as plt\n",
    "from sklearn.pipeline import Pipeline\n",
    "from sklearn.discriminant_analysis import LinearDiscriminantAnalysis\n",
    "from sklearn.model_selection import ShuffleSplit, cross_val_score, GridSearchCV\n",
    "from sklearn.svm import SVC\n",
    "from sklearn.neighbors import KNeighborsClassifier\n",
    "from sklearn.ensemble import RandomForestClassifier\n",
    "\n"
   ]
  },
  {
   "cell_type": "code",
   "execution_count": 2,
   "metadata": {},
   "outputs": [
    {
     "name": "stdout",
     "output_type": "stream",
     "text": [
      "Extracting EDF parameters from c:\\Users\\Darin Tsui\\MotorImagery\\BCICIV_2a_gdf\\A01T.gdf...\n",
      "GDF file detected\n",
      "Setting channel info structure...\n",
      "Could not determine channel type of the following channels, they will be set as EEG:\n",
      "EEG-Fz, EEG, EEG, EEG, EEG, EEG, EEG, EEG-C3, EEG, EEG-Cz, EEG, EEG-C4, EEG, EEG, EEG, EEG, EEG, EEG, EEG, EEG-Pz, EEG, EEG, EOG-left, EOG-central, EOG-right\n",
      "Creating raw.info structure...\n",
      "Reading 0 ... 672527  =      0.000 ...  2690.108 secs...\n"
     ]
    },
    {
     "name": "stderr",
     "output_type": "stream",
     "text": [
      "C:\\Program Files\\WindowsApps\\PythonSoftwareFoundation.Python.3.9_3.9.3568.0_x64__qbz5n2kfra8p0\\lib\\contextlib.py:126: RuntimeWarning: Channel names are not unique, found duplicates for: {'EEG'}. Applying running numbers for duplicates.\n",
      "  next(self.gen)\n"
     ]
    },
    {
     "name": "stdout",
     "output_type": "stream",
     "text": [
      "Extracting EDF parameters from c:\\Users\\Darin Tsui\\MotorImagery\\BCICIV_2a_gdf\\A02T.gdf...\n",
      "GDF file detected\n",
      "Setting channel info structure...\n",
      "Could not determine channel type of the following channels, they will be set as EEG:\n",
      "EEG-Fz, EEG, EEG, EEG, EEG, EEG, EEG, EEG-C3, EEG, EEG-Cz, EEG, EEG-C4, EEG, EEG, EEG, EEG, EEG, EEG, EEG, EEG-Pz, EEG, EEG, EOG-left, EOG-central, EOG-right\n",
      "Creating raw.info structure...\n",
      "Reading 0 ... 677168  =      0.000 ...  2708.672 secs...\n"
     ]
    },
    {
     "name": "stderr",
     "output_type": "stream",
     "text": [
      "C:\\Program Files\\WindowsApps\\PythonSoftwareFoundation.Python.3.9_3.9.3568.0_x64__qbz5n2kfra8p0\\lib\\contextlib.py:126: RuntimeWarning: Channel names are not unique, found duplicates for: {'EEG'}. Applying running numbers for duplicates.\n",
      "  next(self.gen)\n"
     ]
    },
    {
     "name": "stdout",
     "output_type": "stream",
     "text": [
      "Extracting EDF parameters from c:\\Users\\Darin Tsui\\MotorImagery\\BCICIV_2a_gdf\\A03T.gdf...\n",
      "GDF file detected\n",
      "Setting channel info structure...\n",
      "Could not determine channel type of the following channels, they will be set as EEG:\n",
      "EEG-Fz, EEG, EEG, EEG, EEG, EEG, EEG, EEG-C3, EEG, EEG-Cz, EEG, EEG-C4, EEG, EEG, EEG, EEG, EEG, EEG, EEG, EEG-Pz, EEG, EEG, EOG-left, EOG-central, EOG-right\n",
      "Creating raw.info structure...\n",
      "Reading 0 ... 660529  =      0.000 ...  2642.116 secs...\n"
     ]
    },
    {
     "name": "stderr",
     "output_type": "stream",
     "text": [
      "C:\\Program Files\\WindowsApps\\PythonSoftwareFoundation.Python.3.9_3.9.3568.0_x64__qbz5n2kfra8p0\\lib\\contextlib.py:126: RuntimeWarning: Channel names are not unique, found duplicates for: {'EEG'}. Applying running numbers for duplicates.\n",
      "  next(self.gen)\n"
     ]
    }
   ],
   "source": [
    "# Import the raw file using mne\n",
    "raw = mne.io.read_raw_gdf('./BCICIV_2a_gdf/A01T.gdf', preload=True)\n",
    "raw2 = mne.io.read_raw_gdf('./BCICIV_2a_gdf/A02T.gdf', preload=True)\n",
    "raw3 = mne.io.read_raw_gdf('./BCICIV_2a_gdf/A03T.gdf', preload=True)\n",
    "\n",
    "# set channel names to a standard\n",
    "eegbci.standardize(raw) \n",
    "\n",
    "# Set up Arrays for the Classification Algorithm Scores\n",
    "\n",
    "LH_RH = [] #Classification Algorithm Score Array for Left Hand vs Right Hand\n",
    "LH_Tongue = [] #Classification Algorithm Score Array for Left Hand vs Tongue\n",
    "LH_Foot = [] #Classification Algorithm Score Array for Left Hand vs Foot"
   ]
  },
  {
   "cell_type": "code",
   "execution_count": 3,
   "metadata": {},
   "outputs": [
    {
     "data": {
      "text/plain": [
       "['EEG-Fz',\n",
       " 'EEG-0',\n",
       " 'EEG-1',\n",
       " 'EEG-2',\n",
       " 'EEG-3',\n",
       " 'EEG-4',\n",
       " 'EEG-5',\n",
       " 'EEG-C3',\n",
       " 'EEG-6',\n",
       " 'EEG-Cz',\n",
       " 'EEG-7',\n",
       " 'EEG-C4',\n",
       " 'EEG-8',\n",
       " 'EEG-9',\n",
       " 'EEG-10',\n",
       " 'EEG-11',\n",
       " 'EEG-12',\n",
       " 'EEG-13',\n",
       " 'EEG-14',\n",
       " 'EEG-Pz',\n",
       " 'EEG-15',\n",
       " 'EEG-16',\n",
       " 'EOG-LEFT',\n",
       " 'EOG-CENTRAL',\n",
       " 'EOG-RIGHT']"
      ]
     },
     "execution_count": 3,
     "metadata": {},
     "output_type": "execute_result"
    }
   ],
   "source": [
    "raw.ch_names"
   ]
  },
  {
   "cell_type": "code",
   "execution_count": 4,
   "metadata": {},
   "outputs": [
    {
     "name": "stdout",
     "output_type": "stream",
     "text": [
      "Filtering raw data in 1 contiguous segment\n",
      "Setting up band-pass filter from 8 - 30 Hz\n",
      "\n",
      "FIR filter parameters\n",
      "---------------------\n",
      "Designing a one-pass, zero-phase, non-causal bandpass filter:\n",
      "- Windowed time-domain design (firwin) method\n",
      "- Hamming window with 0.0194 passband ripple and 53 dB stopband attenuation\n",
      "- Lower passband edge: 8.00\n",
      "- Lower transition bandwidth: 2.00 Hz (-6 dB cutoff frequency: 7.00 Hz)\n",
      "- Upper passband edge: 30.00 Hz\n",
      "- Upper transition bandwidth: 7.50 Hz (-6 dB cutoff frequency: 33.75 Hz)\n",
      "- Filter length: 413 samples (1.652 sec)\n",
      "\n"
     ]
    },
    {
     "name": "stderr",
     "output_type": "stream",
     "text": [
      "[Parallel(n_jobs=1)]: Using backend SequentialBackend with 1 concurrent workers.\n",
      "[Parallel(n_jobs=1)]: Done   1 out of   1 | elapsed:    0.0s remaining:    0.0s\n",
      "[Parallel(n_jobs=1)]: Done   2 out of   2 | elapsed:    0.0s remaining:    0.0s\n",
      "[Parallel(n_jobs=1)]: Done   3 out of   3 | elapsed:    0.0s remaining:    0.0s\n",
      "[Parallel(n_jobs=1)]: Done   4 out of   4 | elapsed:    0.0s remaining:    0.0s\n",
      "[Parallel(n_jobs=1)]: Done  25 out of  25 | elapsed:    0.4s finished\n"
     ]
    },
    {
     "data": {
      "text/html": [
       "<table class=\"table table-hover table-striped table-sm table-responsive small\">\n",
       "    <tr>\n",
       "        <th>Measurement date</th>\n",
       "        \n",
       "        <td>January 17, 2005  12:00:00 GMT</td>\n",
       "        \n",
       "    </tr>\n",
       "    <tr>\n",
       "        <th>Experimenter</th>\n",
       "        \n",
       "        <td>Unknown</td>\n",
       "        \n",
       "    </tr>\n",
       "        <th>Participant</th>\n",
       "        \n",
       "        <td>Unknown</td>\n",
       "        \n",
       "    </tr>\n",
       "    <tr>\n",
       "        <th>Digitized points</th>\n",
       "        \n",
       "        <td>8 points</td>\n",
       "        \n",
       "    </tr>\n",
       "    <tr>\n",
       "        <th>Good channels</th>\n",
       "        <td>25 EEG</td>\n",
       "    </tr>\n",
       "    <tr>\n",
       "        <th>Bad channels</th>\n",
       "        <td>None</td>\n",
       "    </tr>\n",
       "    <tr>\n",
       "        <th>EOG channels</th>\n",
       "        <td>Not available</td>\n",
       "    </tr>\n",
       "    <tr>\n",
       "        <th>ECG channels</th>\n",
       "        <td>Not available</td>\n",
       "    \n",
       "    <tr>\n",
       "        <th>Sampling frequency</th>\n",
       "        <td>250.00 Hz</td>\n",
       "    </tr>\n",
       "    \n",
       "    \n",
       "    <tr>\n",
       "        <th>Highpass</th>\n",
       "        <td>8.00 Hz</td>\n",
       "    </tr>\n",
       "    \n",
       "    \n",
       "    <tr>\n",
       "        <th>Lowpass</th>\n",
       "        <td>30.00 Hz</td>\n",
       "    </tr>\n",
       "    \n",
       "    \n",
       "    \n",
       "    <tr>\n",
       "        <th>Filenames</th>\n",
       "        <td>A01T.gdf</td>\n",
       "    </tr>\n",
       "    \n",
       "    <tr>\n",
       "        <th>Duration</th>\n",
       "        <td>00:44:51 (HH:MM:SS)</td>\n",
       "    </tr>\n",
       "</table>"
      ],
      "text/plain": [
       "<RawGDF | A01T.gdf, 25 x 672528 (2690.1 s), ~128.3 MB, data loaded>"
      ]
     },
     "execution_count": 4,
     "metadata": {},
     "output_type": "execute_result"
    }
   ],
   "source": [
    "# Rename channels to work with teh montage standard\n",
    "raw.rename_channels(lambda x: x.strip('EEG-'))\n",
    "montage = mne.channels.make_standard_montage('standard_1005')\n",
    "\n",
    "# Set our montage to our raw\n",
    "raw.set_montage(montage, on_missing='ignore')\n",
    "\n",
    "# Keep only Fz, 3, and 5 channels \n",
    "# excludeList = ['0', '2', '4', '5', 'C3', '6', 'Cz', '7', '8', '9', '10', '11', \n",
    "# '12', '13', '14', 'Pz', '15', '16', 'OG-LEFT', 'OG-CENTRAL', 'OG-RIGHT', 'OG-1', 'OG-2', 'OG-3', 'C4']\n",
    "excludeList = ['0', '1', '2', '3', '4', '5', '6', '7', '8', '9', '10', '11', \n",
    "'12', '13', '14', '15', '16', 'OG-LEFT', 'OG-CENTRAL', 'OG-RIGHT', 'OG-1', 'OG-2', 'OG-3', 'Fz', 'Pz']\n",
    "\n",
    "# Setting up band pass filter which will filter from 8 to 30\n",
    "raw.filter(8., 30., fir_design='firwin', skip_by_annotation='edge')"
   ]
  },
  {
   "cell_type": "code",
   "execution_count": 5,
   "metadata": {},
   "outputs": [
    {
     "name": "stdout",
     "output_type": "stream",
     "text": [
      "Used Annotations descriptions: ['1023', '1072', '276', '277', '32766', '768', '769', '770', '771', '772']\n"
     ]
    },
    {
     "data": {
      "text/plain": [
       "(array([[     0,      0,      5],\n",
       "        [     0,      0,      3],\n",
       "        [ 29683,      0,      5],\n",
       "        ...,\n",
       "        [670550,      0,      6],\n",
       "        [670550,      0,      1],\n",
       "        [671050,      0,      7]]),\n",
       " {'1023': 1,\n",
       "  '1072': 2,\n",
       "  '276': 3,\n",
       "  '277': 4,\n",
       "  '32766': 5,\n",
       "  '768': 6,\n",
       "  '769': 7,\n",
       "  '770': 8,\n",
       "  '771': 9,\n",
       "  '772': 10})"
      ]
     },
     "execution_count": 5,
     "metadata": {},
     "output_type": "execute_result"
    }
   ],
   "source": [
    "# View Event Labels\n",
    "mne.events_from_annotations(raw)"
   ]
  },
  {
   "cell_type": "code",
   "execution_count": 6,
   "metadata": {},
   "outputs": [],
   "source": [
    "# Define the different functions to seperate our classes\n",
    "# They all seperate out from left hand\n",
    "def filterEventsFoot(events):\n",
    "    finalArray = []\n",
    "    for event in events:\n",
    "        if event[2] == 7 or event[2] == 9:\n",
    "            finalArray.append(event)\n",
    "    return finalArray\n",
    "\n",
    "def filterEventsRight_Hand(events):\n",
    "    finalArray = []\n",
    "    for event in events:\n",
    "        if event[2] == 7 or event[2] == 8:\n",
    "            finalArray.append(event)\n",
    "    return finalArray\n",
    "\n",
    "def filterEventsTongue(events):\n",
    "    finalArray = []\n",
    "    for event in events:\n",
    "        if event[2] == 7 or event[2] == 10:\n",
    "            finalArray.append(event)\n",
    "    return finalArray"
   ]
  },
  {
   "cell_type": "code",
   "execution_count": 7,
   "metadata": {},
   "outputs": [
    {
     "name": "stdout",
     "output_type": "stream",
     "text": [
      "Used Annotations descriptions: ['1023', '1072', '276', '277', '32766', '768', '769', '770', '771', '772']\n"
     ]
    }
   ],
   "source": [
    "events, _ = events_from_annotations(raw)"
   ]
  },
  {
   "cell_type": "code",
   "execution_count": 8,
   "metadata": {},
   "outputs": [
    {
     "name": "stdout",
     "output_type": "stream",
     "text": [
      "Used Annotations descriptions: ['1023', '1072', '276', '277', '32766', '768', '769', '770', '771', '772']\n",
      "Not setting metadata\n",
      "144 matching events found\n",
      "No baseline correction applied\n",
      "0 projection items activated\n",
      "Using data from preloaded Raw for 144 events and 1501 original time points ...\n",
      "1 bad epochs dropped\n",
      "(143, 3, 1501)\n"
     ]
    }
   ],
   "source": [
    "# grab the events and change it to be only left and right hand\n",
    "events, _ = events_from_annotations(raw)\n",
    "events = filterEventsRight_Hand(events)\n",
    "\n",
    "# Excludelist was written in data Wrangling. defines the EEG channels we dont want\n",
    "picks = pick_types(raw.info, meg=False, eeg=True, stim=False, eog=False, exclude=excludeList)\n",
    "\n",
    "# set our events and epoch the data\n",
    "event_id = dict(leftHand=7, rightHand=8)\n",
    "epochs = Epochs(raw, events, event_id, 0, 6, proj=True, picks=picks, baseline=None, preload=True)\n",
    "print(epochs.get_data().shape)"
   ]
  },
  {
   "cell_type": "code",
   "execution_count": 9,
   "metadata": {},
   "outputs": [],
   "source": [
    "# Train data from between 1-4 seconds\n",
    "epochs_train = epochs.copy().crop(tmin=1., tmax=4.)\n",
    "labels = epochs.events[:, -1] - 2"
   ]
  },
  {
   "cell_type": "code",
   "execution_count": 10,
   "metadata": {},
   "outputs": [],
   "source": [
    "# Split our testing data and training data with a .2 split\n",
    "scores = []\n",
    "epochs_data = epochs.get_data()\n",
    "epochs_data_train = epochs_train.get_data()\n",
    "\n",
    "# Randomly yielding indicies to split data into tests and train, and 5 interations of that.\n",
    "cv = ShuffleSplit(5, test_size=0.2, random_state=42)\n",
    "cv_split = cv.split(epochs_data_train)"
   ]
  },
  {
   "cell_type": "code",
   "execution_count": 11,
   "metadata": {},
   "outputs": [
    {
     "name": "stdout",
     "output_type": "stream",
     "text": [
      "<Info | 8 non-empty values\n",
      " bads: []\n",
      " ch_names: C3, Cz, C4\n",
      " chs: 3 EEG\n",
      " custom_ref_applied: False\n",
      " dig: 8 items (3 Cardinal, 5 EEG)\n",
      " highpass: 8.0 Hz\n",
      " lowpass: 30.0 Hz\n",
      " meas_date: 2005-01-17 12:00:00 UTC\n",
      " nchan: 3\n",
      " projs: []\n",
      " sfreq: 250.0 Hz\n",
      ">\n"
     ]
    }
   ],
   "source": [
    "# Using mne to declare our csp, in next code segment will fill it in with epoch data\n",
    "csp = CSP(n_components=3, reg=None, log=True, norm_trace=False)\n",
    "print(epochs.info)"
   ]
  },
  {
   "cell_type": "code",
   "execution_count": 12,
   "metadata": {},
   "outputs": [
    {
     "data": {
      "text/plain": [
       "(143, 3, 1501)"
      ]
     },
     "execution_count": 12,
     "metadata": {},
     "output_type": "execute_result"
    }
   ],
   "source": [
    "epochs_data.shape"
   ]
  },
  {
   "cell_type": "code",
   "execution_count": 13,
   "metadata": {},
   "outputs": [
    {
     "data": {
      "text/html": [
       "<table class=\"table table-hover table-striped table-sm table-responsive small\">\n",
       "    <tr>\n",
       "        <th>Number of events</th>\n",
       "        <td>143</td>\n",
       "    </tr>\n",
       "    <tr>\n",
       "        <th>Events</th>\n",
       "        \n",
       "        <td>leftHand: 71<br/>rightHand: 72</td>\n",
       "        \n",
       "    </tr>\n",
       "    <tr>\n",
       "        <th>Time range</th>\n",
       "        <td>0.000 – 6.000 sec</td>\n",
       "    </tr>\n",
       "    <tr>\n",
       "        <th>Baseline</th>\n",
       "        <td>off</td>\n",
       "    </tr>\n",
       "</table>"
      ],
      "text/plain": [
       "<Epochs |  143 events (all good), 0 - 6 sec, baseline off, ~4.9 MB, data loaded,\n",
       " 'leftHand': 71\n",
       " 'rightHand': 72>"
      ]
     },
     "execution_count": 13,
     "metadata": {},
     "output_type": "execute_result"
    }
   ],
   "source": [
    "epochs"
   ]
  },
  {
   "cell_type": "code",
   "execution_count": 14,
   "metadata": {},
   "outputs": [],
   "source": [
    "epochs_data = epochs.get_data()"
   ]
  },
  {
   "cell_type": "code",
   "execution_count": 15,
   "metadata": {},
   "outputs": [
    {
     "name": "stdout",
     "output_type": "stream",
     "text": [
      "Computing rank from data with rank=None\n",
      "    Using tolerance 4.1e-06 (2.2e-16 eps * 3 dim * 6.2e+09  max singular value)\n",
      "    Estimated rank (mag): 3\n",
      "    MAG: rank 3 computed from 3 data channels with 0 projectors\n",
      "Reducing data rank from 3 -> 3\n",
      "Estimating covariance using EMPIRICAL\n",
      "Done.\n",
      "Computing rank from data with rank=None\n",
      "    Using tolerance 1.9e-06 (2.2e-16 eps * 3 dim * 2.9e+09  max singular value)\n",
      "    Estimated rank (mag): 3\n",
      "    MAG: rank 3 computed from 3 data channels with 0 projectors\n",
      "Reducing data rank from 3 -> 3\n",
      "Estimating covariance using EMPIRICAL\n",
      "Done.\n"
     ]
    },
    {
     "data": {
      "text/plain": [
       "array([[-2.11286276, -0.84093856, -0.69074258],\n",
       "       [-1.8191899 , -0.7215149 , -0.48569596],\n",
       "       [-2.19721384, -0.35735322, -0.63717884],\n",
       "       [-1.98183444, -0.72720994, -0.50304597],\n",
       "       [-2.04820076, -0.6696077 , -0.69223653],\n",
       "       [-1.69912118, -0.35735504, -0.45076966],\n",
       "       [-2.15462195, -0.8133044 , -0.96220394],\n",
       "       [-1.98010359, -0.55908562, -0.70047421],\n",
       "       [-2.22631284, -0.92953426, -0.87564122],\n",
       "       [-1.9070611 , -0.70925205, -0.90112812],\n",
       "       [-2.07291859, -0.78759122, -0.92415171],\n",
       "       [-2.01880679, -0.76452055, -0.78651064],\n",
       "       [-2.01511658, -0.61618196, -0.60499093],\n",
       "       [-1.62846959, -0.49468722, -0.58020533],\n",
       "       [-2.18342116, -0.91140488, -0.91963031],\n",
       "       [-1.92654979, -0.58865485, -0.83865998],\n",
       "       [-2.18144166, -0.7146613 , -0.73714766],\n",
       "       [-2.04632342, -0.44284949, -0.57290788],\n",
       "       [-1.96138331, -0.77153066, -0.6413652 ],\n",
       "       [-1.51215721, -0.13407909, -0.36494694],\n",
       "       [-2.02615517, -0.47358794, -0.422463  ],\n",
       "       [-2.25526006, -0.86215336, -0.81964634],\n",
       "       [-1.89960665, -0.61265581, -0.88125718],\n",
       "       [ 2.7984017 , -0.52819401, -0.32892313],\n",
       "       [-2.04483532, -0.957743  , -0.82006439],\n",
       "       [-1.94773742, -1.05496219, -1.09242873],\n",
       "       [-1.94078277, -0.79708364, -0.85167575],\n",
       "       [-1.91309236, -0.74612196, -0.86318441],\n",
       "       [-2.0604258 , -0.99967324, -0.97557132],\n",
       "       [-1.82245761, -0.65968731, -0.71636933],\n",
       "       [-1.50700276, -0.36206616, -0.673932  ],\n",
       "       [-1.89918923, -0.62207686, -0.69974728],\n",
       "       [-2.21260994, -0.81731034, -1.08932684],\n",
       "       [-1.89702072, -0.57555323, -0.65071131],\n",
       "       [-1.90273784, -0.58385962, -0.6618453 ],\n",
       "       [-2.01216973, -0.92914614, -0.85366053],\n",
       "       [-2.07800143, -0.85231038, -0.76143953],\n",
       "       [-1.77430143, -0.71619335, -0.61216172],\n",
       "       [-2.10999655, -0.42374732, -0.71250316],\n",
       "       [-1.80623749, -0.64776205, -0.81754151],\n",
       "       [-1.98105173, -0.74334358, -0.7618219 ],\n",
       "       [-1.68527741, -0.53455357, -0.5486845 ],\n",
       "       [-1.77933084, -0.35401612, -0.72713544],\n",
       "       [-1.96922864, -1.03789527, -0.73752526],\n",
       "       [-2.14673405, -0.86111776, -0.89988081],\n",
       "       [-1.81189086, -0.68227651, -0.77550485],\n",
       "       [-1.93714309, -0.78995836, -0.71114837],\n",
       "       [ 2.8302912 , -0.52710899, -0.11549181],\n",
       "       [-1.86110829, -0.69546419, -0.61120526],\n",
       "       [-1.75438411, -0.70309961, -0.69207346],\n",
       "       [-2.16373935, -0.66247422, -0.76567593],\n",
       "       [-1.86841409, -0.67989059, -0.88891656],\n",
       "       [-2.20294177, -1.0912535 , -0.90673245],\n",
       "       [-1.82815384, -0.48809295, -0.41519148],\n",
       "       [-2.1969637 , -0.88314642, -0.84519915],\n",
       "       [-2.32841009, -0.76305129, -0.73029557],\n",
       "       [-2.24540575, -0.56697079, -0.60450368],\n",
       "       [-2.01222739, -0.91720466, -0.79381447],\n",
       "       [-1.97143434, -0.65975566, -0.5511999 ],\n",
       "       [-1.82321591, -0.77500991, -0.85937129],\n",
       "       [-1.99715121, -0.98501027, -0.71417772],\n",
       "       [-1.81281423, -0.4900482 , -0.61702856],\n",
       "       [-1.86065416, -0.75533529, -0.64076664],\n",
       "       [-2.34467108, -0.87776762, -0.66952995],\n",
       "       [-2.1107618 , -0.86667437, -0.89871864],\n",
       "       [-1.85840687, -0.83989981, -0.96937232],\n",
       "       [-2.17070742, -0.71306094, -0.52579368],\n",
       "       [-1.76920849, -0.68364367, -1.07235927],\n",
       "       [-2.14508243, -0.89731598, -1.18213849],\n",
       "       [-1.78560195, -0.58527473, -0.90103387],\n",
       "       [-1.84870736, -0.72807997, -0.8243542 ],\n",
       "       [ 2.80799719, -0.60514309, -0.38549135],\n",
       "       [-2.07315681, -1.15553984, -0.9565393 ],\n",
       "       [-1.93207836, -0.93370341, -0.93409881],\n",
       "       [-1.76729481, -0.58193738, -0.60922734],\n",
       "       [-2.12082344, -0.8293844 , -0.76400224],\n",
       "       [-1.88949834, -1.0054413 , -1.07448402],\n",
       "       [-1.80741759, -0.8167633 , -0.92902948],\n",
       "       [-2.04705228, -0.50845585, -0.9063201 ],\n",
       "       [-1.88699419, -0.58319857, -0.62309535],\n",
       "       [-1.98603409, -1.02457074, -0.84119968],\n",
       "       [-1.71211598, -0.86067621, -0.78016707],\n",
       "       [-1.76343829, -0.41915081, -0.58378871],\n",
       "       [-1.64396668, -0.77470865, -0.52491226],\n",
       "       [-1.55499659, -0.59813266, -0.72661016],\n",
       "       [-1.9645121 , -0.69924935, -0.63797548],\n",
       "       [-1.6574187 , -0.72747545, -0.64778096],\n",
       "       [-1.60664691, -0.76556241, -0.67085417],\n",
       "       [-1.9347767 , -1.00287749, -0.75462034],\n",
       "       [-1.685425  , -0.85703948, -0.88324206],\n",
       "       [-1.709171  , -0.67586449, -0.53924853],\n",
       "       [-1.84457502, -0.73497394, -0.8861193 ],\n",
       "       [-1.86647012, -0.60411908, -0.66852217],\n",
       "       [-1.77881104, -0.97616005, -0.70786874],\n",
       "       [-1.61272077, -0.6612124 , -0.29924411],\n",
       "       [-1.92699336, -1.01449513, -1.00198187],\n",
       "       [-2.17088368, -0.97840819, -0.71525739],\n",
       "       [-2.11797631, -1.06390539, -1.09980961],\n",
       "       [-1.78119854, -0.80012096, -0.92046727],\n",
       "       [-1.98835305, -0.51685135, -0.74134902],\n",
       "       [-1.77500194, -0.81348907, -0.72673347],\n",
       "       [-2.11427417, -0.88004719, -1.12196517],\n",
       "       [-1.67067784, -0.00895905, -0.19987594],\n",
       "       [-1.915831  , -0.8560489 , -0.94230475],\n",
       "       [-1.88593336, -0.25625634, -0.09686052],\n",
       "       [-1.66917713, -0.26397363, -0.34924454],\n",
       "       [-1.84489116, -0.41598464, -0.207616  ],\n",
       "       [-1.88100404, -0.91438459, -0.74634058],\n",
       "       [-1.99068832, -0.69716114, -0.62777064],\n",
       "       [-2.25835042, -1.02031382, -1.03677903],\n",
       "       [-2.01549833, -0.80032301, -1.09998299],\n",
       "       [-1.61864252, -0.15100458, -0.4005941 ],\n",
       "       [-1.81509532, -0.94778332, -0.80698947],\n",
       "       [-2.08197646, -0.8399594 , -1.04684369],\n",
       "       [-1.90935142, -0.6675062 , -0.40012046],\n",
       "       [-1.91260069, -0.88526984, -0.46847162],\n",
       "       [-1.59415156, -0.30937558, -0.05591495],\n",
       "       [-1.4737278 , -0.43817521, -0.42973852],\n",
       "       [-1.729896  , -0.73544153, -0.56574663],\n",
       "       [-2.08936247, -0.82769546, -0.81505912],\n",
       "       [-2.05044526, -1.27493194, -1.09617994],\n",
       "       [-1.78008265, -0.91417155, -0.78680309],\n",
       "       [-1.74127695, -0.85088414, -0.60742094],\n",
       "       [-1.79456603, -0.68894883, -0.70114669],\n",
       "       [-2.12903322, -1.07183405, -1.06649757],\n",
       "       [-1.96228591, -0.79865938, -0.5721083 ],\n",
       "       [-1.98926336, -0.60437399, -0.62934821],\n",
       "       [-1.94172955, -0.93354744, -0.73713294],\n",
       "       [-1.90497471, -0.93860774, -0.45936512],\n",
       "       [-1.69710133, -0.46310907, -0.48679741],\n",
       "       [-1.72790527, -0.59386965, -0.39149478],\n",
       "       [-1.86964617, -0.94505788, -0.82372058],\n",
       "       [-2.08277957, -0.570924  , -0.82491944],\n",
       "       [-1.67702818, -0.62631494, -0.70027218],\n",
       "       [-1.82694791, -0.83650779, -0.88418666],\n",
       "       [-1.89788067, -0.73875585, -0.88939471],\n",
       "       [-1.68530522, -0.77703993, -0.94602718],\n",
       "       [-1.67682995, -0.54620425, -0.69892421],\n",
       "       [-1.78668381, -0.72229357, -0.59032814],\n",
       "       [-1.57330808, -0.48804486, -0.89393973],\n",
       "       [-1.23434315, -0.50593361, -0.4840842 ],\n",
       "       [-1.82425588, -0.29977079, -0.53767753],\n",
       "       [-1.89506433, -0.91935883, -0.77821813]])"
      ]
     },
     "execution_count": 15,
     "metadata": {},
     "output_type": "execute_result"
    }
   ],
   "source": [
    "# plot CSP patterns estimated on full data for visualization using our data\n",
    "csp.fit_transform(epochs_data, labels)\n",
    "\n",
    "# csp.plot_patterns(epochs.info, ch_type='eeg', units='Patterns (AU)', size=1.5)"
   ]
  },
  {
   "cell_type": "code",
   "execution_count": 16,
   "metadata": {},
   "outputs": [
    {
     "name": "stdout",
     "output_type": "stream",
     "text": [
      "Computing rank from data with rank=None\n",
      "    Using tolerance 1.2e-06 (2.2e-16 eps * 3 dim * 1.7e+09  max singular value)\n",
      "    Estimated rank (mag): 3\n",
      "    MAG: rank 3 computed from 3 data channels with 0 projectors\n",
      "Reducing data rank from 3 -> 3\n",
      "Estimating covariance using EMPIRICAL\n",
      "Done.\n",
      "Computing rank from data with rank=None\n",
      "    Using tolerance 1.1e-06 (2.2e-16 eps * 3 dim * 1.7e+09  max singular value)\n",
      "    Estimated rank (mag): 3\n",
      "    MAG: rank 3 computed from 3 data channels with 0 projectors\n",
      "Reducing data rank from 3 -> 3\n",
      "Estimating covariance using EMPIRICAL\n",
      "Done.\n",
      "Computing rank from data with rank=None\n",
      "    Using tolerance 1.2e-06 (2.2e-16 eps * 3 dim * 1.9e+09  max singular value)\n",
      "    Estimated rank (mag): 3\n",
      "    MAG: rank 3 computed from 3 data channels with 0 projectors\n",
      "Reducing data rank from 3 -> 3\n",
      "Estimating covariance using EMPIRICAL\n",
      "Done.\n",
      "Computing rank from data with rank=None\n",
      "    Using tolerance 1e-06 (2.2e-16 eps * 3 dim * 1.5e+09  max singular value)\n",
      "    Estimated rank (mag): 3\n",
      "    MAG: rank 3 computed from 3 data channels with 0 projectors\n",
      "Reducing data rank from 3 -> 3\n",
      "Estimating covariance using EMPIRICAL\n",
      "Done.\n",
      "Computing rank from data with rank=None\n",
      "    Using tolerance 1.2e-06 (2.2e-16 eps * 3 dim * 1.7e+09  max singular value)\n",
      "    Estimated rank (mag): 3\n",
      "    MAG: rank 3 computed from 3 data channels with 0 projectors\n",
      "Reducing data rank from 3 -> 3\n",
      "Estimating covariance using EMPIRICAL\n",
      "Done.\n",
      "Computing rank from data with rank=None\n",
      "    Using tolerance 1.1e-06 (2.2e-16 eps * 3 dim * 1.7e+09  max singular value)\n",
      "    Estimated rank (mag): 3\n",
      "    MAG: rank 3 computed from 3 data channels with 0 projectors\n",
      "Reducing data rank from 3 -> 3\n",
      "Estimating covariance using EMPIRICAL\n",
      "Done.\n",
      "Computing rank from data with rank=None\n",
      "    Using tolerance 1.2e-06 (2.2e-16 eps * 3 dim * 1.7e+09  max singular value)\n",
      "    Estimated rank (mag): 3\n",
      "    MAG: rank 3 computed from 3 data channels with 0 projectors\n",
      "Reducing data rank from 3 -> 3\n",
      "Estimating covariance using EMPIRICAL\n",
      "Done.\n",
      "Computing rank from data with rank=None\n",
      "    Using tolerance 1.1e-06 (2.2e-16 eps * 3 dim * 1.7e+09  max singular value)\n",
      "    Estimated rank (mag): 3\n",
      "    MAG: rank 3 computed from 3 data channels with 0 projectors\n",
      "Reducing data rank from 3 -> 3\n",
      "Estimating covariance using EMPIRICAL\n",
      "Done.\n",
      "Computing rank from data with rank=None\n",
      "    Using tolerance 1.1e-06 (2.2e-16 eps * 3 dim * 1.7e+09  max singular value)\n",
      "    Estimated rank (mag): 3\n",
      "    MAG: rank 3 computed from 3 data channels with 0 projectors\n",
      "Reducing data rank from 3 -> 3\n",
      "Estimating covariance using EMPIRICAL\n",
      "Done.\n",
      "Computing rank from data with rank=None\n",
      "    Using tolerance 1.2e-06 (2.2e-16 eps * 3 dim * 1.7e+09  max singular value)\n",
      "    Estimated rank (mag): 3\n",
      "    MAG: rank 3 computed from 3 data channels with 0 projectors\n",
      "Reducing data rank from 3 -> 3\n",
      "Estimating covariance using EMPIRICAL\n",
      "Done.\n"
     ]
    }
   ],
   "source": [
    "# Assemble a classifier\n",
    "lda = LinearDiscriminantAnalysis()\n",
    "\n",
    "# SKlearn Pipeline with csp and lda, evaluating scores using Cross validation\n",
    "clf = Pipeline([('CSP', csp), ('LDA', lda)])\n",
    "scoresLDA = cross_val_score(clf, epochs_data_train, labels, cv=cv, n_jobs=1)"
   ]
  },
  {
   "cell_type": "code",
   "execution_count": 17,
   "metadata": {},
   "outputs": [
    {
     "name": "stdout",
     "output_type": "stream",
     "text": [
      "LDA accuracy: 0.765517    |    Chance level: 0.503497\n"
     ]
    }
   ],
   "source": [
    "# Printing the results our scores\n",
    "class_balance = np.mean(labels == labels[0])\n",
    "class_balance = max(class_balance, 1. - class_balance)\n",
    "print(\"LDA accuracy: %f    |    Chance level: %f\" % (np.mean(scoresLDA), class_balance))\n",
    "LH_RH.append(np.mean(scoresLDA))"
   ]
  }
 ],
 "metadata": {
  "kernelspec": {
   "display_name": "Python 3",
   "language": "python",
   "name": "python3"
  },
  "language_info": {
   "codemirror_mode": {
    "name": "ipython",
    "version": 3
   },
   "file_extension": ".py",
   "mimetype": "text/x-python",
   "name": "python",
   "nbconvert_exporter": "python",
   "pygments_lexer": "ipython3",
   "version": "3.9.13"
  },
  "orig_nbformat": 4,
  "vscode": {
   "interpreter": {
    "hash": "98a625e6d7d55545ce81aedecb43d138ab580e94ba5efa0d01dd2fae79ce129d"
   }
  }
 },
 "nbformat": 4,
 "nbformat_minor": 2
}
